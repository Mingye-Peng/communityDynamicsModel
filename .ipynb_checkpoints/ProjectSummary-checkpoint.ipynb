{
 "cells": [
  {
   "cell_type": "markdown",
   "metadata": {},
   "source": [
    "\n",
    "## Biocomputing Final Project: Stability of Predator-Prey Dynamics\n",
    "### Authors: Brittni Bertolet, Josh Hobgood, Aaron Long, and Om Neelay\n",
    "\n",
    "In our final project, we explored the dynamics of two classic predator-prey models from ecological literature and determined how individual parameters of each model controlled population dynamics. \n",
    "\n",
    "### Lotka-Volterra Model\n",
    "The Lotka-Volterra model is a simple model, in which each population is explained as a differential equation. \n",
    "\n",
    "$dH/dt = bH - aPH$\n",
    "\n",
    "$"
   ]
  }
 ],
 "metadata": {
  "kernelspec": {
   "display_name": "Python 2",
   "language": "python",
   "name": "python2"
  },
  "language_info": {
   "codemirror_mode": {
    "name": "ipython",
    "version": 2
   },
   "file_extension": ".py",
   "mimetype": "text/x-python",
   "name": "python",
   "nbconvert_exporter": "python",
   "pygments_lexer": "ipython2",
   "version": "2.7.13"
  }
 },
 "nbformat": 4,
 "nbformat_minor": 2
}
