{
 "cells": [
  {
   "cell_type": "markdown",
   "metadata": {},
   "source": [
    "\n",
    "## Biocomputing Final Project: Stability of Predator-Prey Dynamics\n",
    "### Authors: Brittni Bertolet, Josh Hobgood, Aaron Long, and Om Neelay\n",
    "\n",
    "In our final project, we explored the dynamics of two classic predator-prey models from ecological literature and determined how individual parameters of each model controlled population dynamics. \n",
    "\n",
    "### Lotka-Volterra Model\n",
    "The Lotka-Volterra model is one of the simplest models, in which each population is explained as a differential equation. Below, the two equations are reported where H = prey, P = predator, b = prey birth rate, a = predator attack rate, e = conversion efficiency of prey to predator, and s = predator death rate. \n",
    "\n",
    "Prey Equation: $dH/dt = bH - aPH$\n",
    "\n",
    "Predator Equation: $dP/dt = eaPH - sP$\n",
    "\n",
    "![Caption](Q1_conceptualModel.pdf)\t\t\n",
    "\n",
    "First, we simulated model dynamics using a single set of parameters: b = 0.5, a = 0.02, e = 0.1, s = 0.2, H0 = 25, P0 = 5."
   ]
  },
  {
   "cell_type": "code",
   "execution_count": null,
   "metadata": {
    "collapsed": true
   },
   "outputs": [],
   "source": [
    "import os\n",
    "import numpy as np\n",
    "import pandas as pd\n",
    "import scipy\n",
    "import sklearn\n",
    "import scipy.integrate as spint\n",
    "\n",
    "#Define a custom function for Lotka Volterra model\n",
    "def LVSim(y,t0,b,a,e,s):\n",
    "    #unpack state variables from list y\n",
    "    H=y[0]\n",
    "    P=y[1]\n",
    "    #calculate changes in state variables\n",
    "    dHdt=(b*H)-(a*P*H)\n",
    "    dPdt=(e*a*P*H)-(s*P)\n",
    "    #return lists containing changes in state variables with time\n",
    "    return [dHdt,dPdt]\n",
    "    \n",
    "#Define initial values for state variables\n",
    "H0=25\n",
    "P0=5\n",
    "N0=[H0,P0]\n",
    "\n",
    "#Define time steps\n",
    "times=np.arange(0,75,0.1)\n",
    "\n",
    "#Define parameters in dataframe\n",
    "##define intial values \n",
    "b=0.5\n",
    "a=0.02\n",
    "e=0.1\n",
    "s=0.2\n",
    "##put values into a tupple\n",
    "params=(b,a,e,s) \n",
    "\n",
    "#Simulate model dynamics\n",
    "modelSim=spint.odeint(func=LVSim,y0=N0,t=times,args=params)\n",
    "modelSim_df=pd.DataFrame(data=modelSim)\n",
    "modelOut=pd.DataFrame({'t':times, 'H':modelSim_df})\n"
   ]
  },
  {
   "cell_type": "markdown",
   "metadata": {},
   "source": [
    "### Rosenzweig-MacArthur Model\n",
    "The Rosenzweig-MacArthur Model Expands upon the Lotka-Volterra Model by adding two additional parameters that account for prey self-limitation and the effect of saturation between predator and prey density.\n",
    "\n",
    "$dH/dt = bH(1 - αH) - w(H/(d + H))P\n",
    "$dP/dt = ew(H/(d + H))P - sP\n",
    "\n",
    "The first equation is broken up into two parts. The first describes the prey as a single population. The b value represents the natural population increase (a rate that considers births and deaths in an unrestricted environment) of the population. The term in parentheses represents constraints on the population due to resources, where α represents 1/k where  k is the carrying capacity."
   ]
  }
 ],
 "metadata": {
  "kernelspec": {
   "display_name": "Python 3",
   "language": "python",
   "name": "python3"
  },
  "language_info": {
   "codemirror_mode": {
    "name": "ipython",
    "version": 3
   },
   "file_extension": ".py",
   "mimetype": "text/x-python",
   "name": "python",
   "nbconvert_exporter": "python",
   "pygments_lexer": "ipython3",
<<<<<<< HEAD
   "version": "3.6.2"
=======
   "version": "3.6.3"
>>>>>>> 72581a604730f1a05b209de4c48751ab96165acb
  }
 },
 "nbformat": 4,
 "nbformat_minor": 2
}
