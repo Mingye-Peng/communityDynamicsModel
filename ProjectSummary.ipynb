{
 "cells": [
  {
   "cell_type": "markdown",
   "metadata": {},
   "source": [
    "\n",
    "## Biocomputing Final Project: Stability of Predator-Prey Dynamics\n",
    "### Authors: Brittni Bertolet, Josh Hobgood, Aaron Long, and Om Neelay\n",
    "\n",
    "In our final project, we explored the dynamics of two classic predator-prey models from ecological literature and determined how individual parameters of each model controlled population dynamics. \n",
    "\n",
    "### Lotka-Volterra Model\n",
    "The Lotka-Volterra model is a simple model, in which each population is explained as a differential equation. \n",
    "\n",
    "$dH/dt = bH - aPH$\n",
    "\n",
    "$"
   ]
  },
  {
   "cell_type": "markdown",
   "metadata": {},
   "source": [
    "### Rosenzweig-MacArthur Model\n",
    "The Rosenzweig-MacArthur Model Expands upon the Lotka-Volterra Model by adding two additional parameters that account for prey self-limitation and the effect of saturation between predator and prey density.\n",
    "\n",
    "$dH/dt = bH(1 - αH) - w(H/(d + H))P\n",
    "$dP/dt = ew(H/(d + H))P - sP\n",
    "\n",
    "The first equation is broken up into two parts. The first describes the prey as a single population. The b value represents the natural population increase (a rate that considers births and deaths in an unrestricted environment) of the population. The term in parentheses represents constraints on the population due to resources, where α represents 1/k where  k is the carrying capacity."
   ]
  }
 ],
 "metadata": {
  "kernelspec": {
   "display_name": "Python 3",
   "language": "python",
   "name": "python3"
  },
  "language_info": {
   "codemirror_mode": {
    "name": "ipython",
    "version": 3
   },
   "file_extension": ".py",
   "mimetype": "text/x-python",
   "name": "python",
   "nbconvert_exporter": "python",
   "pygments_lexer": "ipython3",
   "version": "3.6.2"
  }
 },
 "nbformat": 4,
 "nbformat_minor": 2
}
