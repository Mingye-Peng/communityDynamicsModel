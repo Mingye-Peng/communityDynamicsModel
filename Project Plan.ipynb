{
 "cells": [
  {
   "cell_type": "markdown",
   "metadata": {},
   "source": [
    "# Biocomputing Modeling Project\n",
    "### Team Alpha Wolf: Brittni Bertolet, Josh Hobgood, Aaron Long, Om Neelay\n",
    "\n",
    "## Stability of Predator-Prey Dynamics \n",
    "\n",
    "### Question 1: Understanding the Lotka-Volterra Model\n",
    "- **Draw conceptual model:** Josh\n",
    "- **Write code for model:** Om and Brittni (have workable code by Friday)\n",
    "- **Answer questions together on Friday**\n",
    "\n",
    "### Question 2: Understanding the Rosenzweig-MacArthur Model\n",
    "- **Draw conceptual model:** Brittni\n",
    "- **Write code for model:** Aaron and Josh (have workable code by Friday)\n",
    "- **Answer questions together on Friday**\n",
    "\n",
    "## Create the summary!\n",
    "\n"
   ]
  }
 ],
 "metadata": {
  "kernelspec": {
   "display_name": "Python 2",
   "language": "python",
   "name": "python2"
  },
  "language_info": {
   "codemirror_mode": {
    "name": "ipython",
    "version": 2
   },
   "file_extension": ".py",
   "mimetype": "text/x-python",
   "name": "python",
   "nbconvert_exporter": "python",
   "pygments_lexer": "ipython2",
   "version": "2.7.13"
  }
 },
 "nbformat": 4,
 "nbformat_minor": 2
}
